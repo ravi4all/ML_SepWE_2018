{
 "cells": [
  {
   "cell_type": "code",
   "execution_count": 1,
   "metadata": {
    "collapsed": true
   },
   "outputs": [],
   "source": [
    "import urllib.request as url\n",
    "import bs4"
   ]
  },
  {
   "cell_type": "code",
   "execution_count": 11,
   "metadata": {},
   "outputs": [
    {
     "name": "stdout",
     "output_type": "stream",
     "text": [
      "<td class=\"result_text\"> <a href=\"/title/tt6452574/?ref_=fn_al_tt_1\">Sanju</a> (2018) </td>\n"
     ]
    }
   ],
   "source": [
    "toSearch = \"sanju\"\n",
    "movieUrl = \"https://www.imdb.com/find?ref_=nv_sr_fn&q=\"+toSearch    \n",
    "page = url.urlopen(movieUrl)\n",
    "soup = bs4.BeautifulSoup(page, 'lxml')\n",
    "td = soup.find_all('td', class_ = 'result_text')"
   ]
  },
  {
   "cell_type": "code",
   "execution_count": 16,
   "metadata": {},
   "outputs": [],
   "source": [
    "path = td[0].find('a')['href']"
   ]
  },
  {
   "cell_type": "code",
   "execution_count": 23,
   "metadata": {
    "collapsed": true
   },
   "outputs": [],
   "source": [
    "newUrl = \"https://www.imdb.com\"+path"
   ]
  },
  {
   "cell_type": "code",
   "execution_count": 24,
   "metadata": {},
   "outputs": [
    {
     "data": {
      "text/plain": [
       "'https://www.imdb.com/title/tt6452574/?ref_=fn_al_tt_1'"
      ]
     },
     "execution_count": 24,
     "metadata": {},
     "output_type": "execute_result"
    }
   ],
   "source": [
    "newUrl"
   ]
  },
  {
   "cell_type": "code",
   "execution_count": 25,
   "metadata": {
    "collapsed": true
   },
   "outputs": [],
   "source": [
    "newpage = url.urlopen(newUrl)"
   ]
  },
  {
   "cell_type": "code",
   "execution_count": 26,
   "metadata": {},
   "outputs": [],
   "source": [
    "soup_1 = bs4.BeautifulSoup(newpage, 'lxml')"
   ]
  },
  {
   "cell_type": "code",
   "execution_count": 28,
   "metadata": {},
   "outputs": [],
   "source": [
    "data = soup_1.find_all('div', class_='title_wrapper')"
   ]
  },
  {
   "cell_type": "code",
   "execution_count": 31,
   "metadata": {},
   "outputs": [
    {
     "name": "stdout",
     "output_type": "stream",
     "text": [
      "\n",
      "Sanju (2018)\n",
      "\n",
      "UA\n",
      "|\n",
      "2h35min\n",
      "\n",
      "|\n",
      "Biography,\n",
      "Drama\n",
      "|\n",
      "29June2018(India)\n",
      "\n",
      "\n"
     ]
    }
   ],
   "source": [
    "for name in data:\n",
    "    print(name.text.replace(\" \",\"\"))"
   ]
  },
  {
   "cell_type": "code",
   "execution_count": null,
   "metadata": {
    "collapsed": true
   },
   "outputs": [],
   "source": []
  }
 ],
 "metadata": {
  "kernelspec": {
   "display_name": "Python 3",
   "language": "python",
   "name": "python3"
  },
  "language_info": {
   "codemirror_mode": {
    "name": "ipython",
    "version": 3
   },
   "file_extension": ".py",
   "mimetype": "text/x-python",
   "name": "python",
   "nbconvert_exporter": "python",
   "pygments_lexer": "ipython3",
   "version": "3.5.4"
  }
 },
 "nbformat": 4,
 "nbformat_minor": 2
}
