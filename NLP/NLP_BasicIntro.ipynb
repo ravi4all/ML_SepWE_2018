{
 "cells": [
  {
   "cell_type": "code",
   "execution_count": 1,
   "metadata": {
    "collapsed": true
   },
   "outputs": [],
   "source": [
    "from nltk.tokenize import word_tokenize, sent_tokenize\n",
    "from nltk.corpus import stopwords\n",
    "from nltk.stem import PorterStemmer, LancasterStemmer, SnowballStemmer\n",
    "from nltk.stem import WordNetLemmatizer"
   ]
  },
  {
   "cell_type": "code",
   "execution_count": 2,
   "metadata": {
    "collapsed": true
   },
   "outputs": [],
   "source": [
    "data = \"\"\"Hello this is python programming. Python is a general purpose\n",
    "programming which is used for machine learning. Python is a supporting language\n",
    "to implement machine learning. You can learn python easily and learning process\n",
    "is also very easy.\"\"\""
   ]
  },
  {
   "cell_type": "code",
   "execution_count": 3,
   "metadata": {
    "collapsed": true
   },
   "outputs": [],
   "source": [
    "wordTokens = word_tokenize(data)"
   ]
  },
  {
   "cell_type": "code",
   "execution_count": 5,
   "metadata": {},
   "outputs": [
    {
     "name": "stdout",
     "output_type": "stream",
     "text": [
      "['Hello', 'this', 'is', 'python', 'programming', '.', 'Python', 'is', 'a', 'general', 'purpose', 'programming', 'which', 'is', 'used', 'for', 'machine', 'learning', '.', 'Python', 'is', 'a', 'supporting', 'language', 'to', 'implement', 'machine', 'learning', '.', 'You', 'can', 'learn', 'python', 'easily', 'and', 'learning', 'process', 'is', 'also', 'very', 'easy', '.']\n"
     ]
    }
   ],
   "source": [
    "print(wordTokens)"
   ]
  },
  {
   "cell_type": "code",
   "execution_count": 6,
   "metadata": {
    "collapsed": true
   },
   "outputs": [],
   "source": [
    "s_tokens = sent_tokenize(data)"
   ]
  },
  {
   "cell_type": "code",
   "execution_count": 7,
   "metadata": {},
   "outputs": [
    {
     "data": {
      "text/plain": [
       "['Hello this is python programming.',\n",
       " 'Python is a general purpose\\nprogramming which is used for machine learning.',\n",
       " 'Python is a supporting language\\nto implement machine learning.',\n",
       " 'You can learn python easily and learning process\\nis also very easy.']"
      ]
     },
     "execution_count": 7,
     "metadata": {},
     "output_type": "execute_result"
    }
   ],
   "source": [
    "s_tokens"
   ]
  },
  {
   "cell_type": "code",
   "execution_count": 13,
   "metadata": {},
   "outputs": [],
   "source": [
    "# print(stopwords.words('english'))\n",
    "s_words = stopwords.words('english')"
   ]
  },
  {
   "cell_type": "code",
   "execution_count": 15,
   "metadata": {},
   "outputs": [],
   "source": [
    "words = []\n",
    "\n",
    "for word in wordTokens:\n",
    "    if word not in s_words:\n",
    "        words.append(word)"
   ]
  },
  {
   "cell_type": "code",
   "execution_count": 16,
   "metadata": {},
   "outputs": [
    {
     "name": "stdout",
     "output_type": "stream",
     "text": [
      "['Hello', 'python', 'programming', '.', 'Python', 'general', 'purpose', 'programming', 'used', 'machine', 'learning', '.', 'Python', 'supporting', 'language', 'implement', 'machine', 'learning', '.', 'You', 'learn', 'python', 'easily', 'learning', 'process', 'also', 'easy', '.']\n"
     ]
    }
   ],
   "source": [
    "print(words)"
   ]
  },
  {
   "cell_type": "code",
   "execution_count": 17,
   "metadata": {
    "collapsed": true
   },
   "outputs": [],
   "source": [
    "for i in range(len(words)):\n",
    "    words[i] = words[i].lower()"
   ]
  },
  {
   "cell_type": "code",
   "execution_count": 18,
   "metadata": {},
   "outputs": [
    {
     "name": "stdout",
     "output_type": "stream",
     "text": [
      "['hello', 'python', 'programming', '.', 'python', 'general', 'purpose', 'programming', 'used', 'machine', 'learning', '.', 'python', 'supporting', 'language', 'implement', 'machine', 'learning', '.', 'you', 'learn', 'python', 'easily', 'learning', 'process', 'also', 'easy', '.']\n"
     ]
    }
   ],
   "source": [
    "print(words)"
   ]
  },
  {
   "cell_type": "code",
   "execution_count": 19,
   "metadata": {
    "collapsed": true
   },
   "outputs": [],
   "source": [
    "ps = PorterStemmer()"
   ]
  },
  {
   "cell_type": "code",
   "execution_count": 21,
   "metadata": {},
   "outputs": [
    {
     "name": "stdout",
     "output_type": "stream",
     "text": [
      "hello\n",
      "python\n",
      "program\n",
      ".\n",
      "python\n",
      "gener\n",
      "purpos\n",
      "program\n",
      "use\n",
      "machin\n",
      "learn\n",
      ".\n",
      "python\n",
      "support\n",
      "languag\n",
      "implement\n",
      "machin\n",
      "learn\n",
      ".\n",
      "you\n",
      "learn\n",
      "python\n",
      "easili\n",
      "learn\n",
      "process\n",
      "also\n",
      "easi\n",
      ".\n"
     ]
    }
   ],
   "source": [
    "for word in words:\n",
    "    print(ps.stem(word))"
   ]
  },
  {
   "cell_type": "code",
   "execution_count": 22,
   "metadata": {
    "collapsed": true
   },
   "outputs": [],
   "source": [
    "w_net = WordNetLemmatizer()"
   ]
  },
  {
   "cell_type": "code",
   "execution_count": 24,
   "metadata": {},
   "outputs": [
    {
     "name": "stdout",
     "output_type": "stream",
     "text": [
      "hello hello\n",
      "python python\n",
      "programming program\n",
      ". .\n",
      "python python\n",
      "general general\n",
      "purpose purpose\n",
      "programming program\n",
      "used use\n",
      "machine machine\n",
      "learning learn\n",
      ". .\n",
      "python python\n",
      "supporting support\n",
      "language language\n",
      "implement implement\n",
      "machine machine\n",
      "learning learn\n",
      ". .\n",
      "you you\n",
      "learn learn\n",
      "python python\n",
      "easily easily\n",
      "learning learn\n",
      "process process\n",
      "also also\n",
      "easy easy\n",
      ". .\n"
     ]
    }
   ],
   "source": [
    "for word in words:\n",
    "    print(word,w_net.lemmatize(word, pos='v'))"
   ]
  },
  {
   "cell_type": "code",
   "execution_count": 25,
   "metadata": {},
   "outputs": [
    {
     "name": "stdout",
     "output_type": "stream",
     "text": [
      "playing play\n",
      "played play\n",
      "plays play\n",
      "bought buy\n",
      "went go\n",
      "brought bring\n",
      "goes go\n"
     ]
    }
   ],
   "source": [
    "words = ['playing','played','plays','bought','went','brought','goes']\n",
    "for word in words:\n",
    "    print(word,w_net.lemmatize(word, pos='v'))"
   ]
  },
  {
   "cell_type": "code",
   "execution_count": null,
   "metadata": {
    "collapsed": true
   },
   "outputs": [],
   "source": []
  }
 ],
 "metadata": {
  "kernelspec": {
   "display_name": "Python 3",
   "language": "python",
   "name": "python3"
  },
  "language_info": {
   "codemirror_mode": {
    "name": "ipython",
    "version": 3
   },
   "file_extension": ".py",
   "mimetype": "text/x-python",
   "name": "python",
   "nbconvert_exporter": "python",
   "pygments_lexer": "ipython3",
   "version": "3.5.4"
  }
 },
 "nbformat": 4,
 "nbformat_minor": 2
}
